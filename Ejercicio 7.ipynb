{
 "cells": [
  {
   "cell_type": "code",
   "execution_count": 1,
   "metadata": {},
   "outputs": [
    {
     "name": "stdout",
     "output_type": "stream",
     "text": [
      "Requirement already satisfied: requests in c:\\users\\laia.subirats\\appdata\\local\\continuum\\anaconda3\\lib\\site-packages\n"
     ]
    }
   ],
   "source": [
    "!pip install requests"
   ]
  },
  {
   "cell_type": "code",
   "execution_count": 2,
   "metadata": {},
   "outputs": [
    {
     "name": "stdout",
     "output_type": "stream",
     "text": [
      "Requirement already satisfied: beautifulsoup4 in c:\\users\\laia.subirats\\appdata\\local\\continuum\\anaconda3\\lib\\site-packages\n"
     ]
    }
   ],
   "source": [
    "!pip install beautifulsoup4 "
   ]
  },
  {
   "cell_type": "code",
   "execution_count": 104,
   "metadata": {},
   "outputs": [
    {
     "name": "stderr",
     "output_type": "stream",
     "text": [
     ]
    }
   ],
   "source": [
    "from bs4 import BeautifulSoup\n",
    "import requests\n",
    "import sys\n",
    "\n",
    "def storeURL(str):\n",
    "    page = requests.get(str)\n",
    "    soup = BeautifulSoup(page.content)\n",
    "    aTitle=soup.title.string\n",
    "    page=soup.prettify()\n",
    "    paragraphs=page.split(\"<p\")\n",
    "    if(len(paragraphs)==0):\n",
    "        print(page)\n",
    "    resultParagraph=\"\"\n",
    "    for para in paragraphs:\n",
    "        if '</p>' in para and 'headers' not in para:\n",
    "            para=para[1:]\n",
    "            theEnd=para.find('/p')\n",
    "            para=para[0:theEnd]\n",
    "            para=para.replace('</p>','')\n",
    "            para=para.replace('<i>','')\n",
    "            para=para.replace('</i>','')\n",
    "            para=para.replace('<em>','')\n",
    "            para=para.replace('</em>','')\n",
    "            para=para.replace('<br/>','')\n",
    "            para=para.replace('<h3>','')\n",
    "            para=para.replace('</h3>','')\n",
    "            para=para.replace('<a href=\"//es.pinterest.com','')\n",
    "            if(para.find('<img')>0):\n",
    "                para=para[para.find('/>'):para.find('/p')]\n",
    "            for number in range(0,40):\n",
    "                para=para.replace('\\n','')\n",
    "                para=para.replace('<','')\n",
    "                number=number+1\n",
    "            para=para.replace('/>','')\n",
    "            para=para.replace('style=\"text-align: justify;\">','')\n",
    "            para=para.replace('</a>','')\n",
    "            para=para.replace('</span>','')\n",
    "            resultParagraph=resultParagraph+para\n",
    "    newLine=aTitle+\";\"+resultParagraph+\"\\n\"\n",
    "    newLine=newLine.encode(sys.stdout.encoding, errors='replace')\n",
    "    with open(\"testimonials.csv\", \"ab\") as myfile:\n",
    "        myfile.write(newLine)\n",
    "        myfile.close()\n",
    "    return\n",
    " \n",
    "page = requests.get(\"https://www.enfermedades-raras.org/index.php/testimonios\")\n",
    "soup = BeautifulSoup(page.content)\n",
    "\n",
    "for link in soup.find_all('a',href=True):\n",
    "    aLink=link.get('href')\n",
    "    if('testimonios/' in aLink):\n",
    "        storeURL(\"https://www.enfermedades-raras.org\"+aLink)\n",
    "    if('testimonios?start' in aLink):\n",
    "        page2 = requests.get(\"https://www.enfermedades-raras.org\"+aLink)\n",
    "        soup2 = BeautifulSoup(page2.content)  \n",
    "        for link2 in soup2.find_all('a',href=True):\n",
    "            twoLink=link2.get('href')\n",
    "            if('testimonios/' in twoLink):\n",
    "                storeURL(\"https://www.enfermedades-raras.org\"+twoLink)"
   ]
  },
  {
   "cell_type": "code",
   "execution_count": null,
   "metadata": {
    "collapsed": true
   },
   "outputs": [],
   "source": []
  },
  {
   "cell_type": "code",
   "execution_count": null,
   "metadata": {
    "collapsed": true
   },
   "outputs": [],
   "source": []
  }
 ],
 "metadata": {
  "anaconda-cloud": {},
  "kernelspec": {
   "display_name": "Python 3",
   "language": "python",
   "name": "python3"
  },
  "language_info": {
   "codemirror_mode": {
    "name": "ipython",
    "version": 3
   },
   "file_extension": ".py",
   "mimetype": "text/x-python",
   "name": "python",
   "nbconvert_exporter": "python",
   "pygments_lexer": "ipython3",
   "version": "3.6.1"
  }
 },
 "nbformat": 4,
 "nbformat_minor": 2
}
